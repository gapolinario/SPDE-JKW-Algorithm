{
 "cells": [
  {
   "cell_type": "code",
   "execution_count": 1,
   "id": "e9606849",
   "metadata": {},
   "outputs": [],
   "source": [
    "import numpy as np\n",
    "from numpy import pi,sqrt,exp\n",
    "from glob import glob\n",
    "import matplotlib.pyplot as plt\n",
    "import os"
   ]
  },
  {
   "cell_type": "code",
   "execution_count": 2,
   "id": "9f90eb2d",
   "metadata": {},
   "outputs": [],
   "source": [
    "from params import *"
   ]
  },
  {
   "cell_type": "code",
   "execution_count": 3,
   "id": "5f789ff4",
   "metadata": {},
   "outputs": [],
   "source": [
    "# parent directory\n",
    "path = os.path.abspath(os.path.join(os.path.abspath('')))"
   ]
  },
  {
   "cell_type": "code",
   "execution_count": 4,
   "id": "c41743b1",
   "metadata": {},
   "outputs": [],
   "source": [
    "all_files = glob(f'{path}/data/*_R_*000.npz')\n",
    "all_files.sort()"
   ]
  },
  {
   "cell_type": "code",
   "execution_count": 5,
   "id": "39c27ef5",
   "metadata": {},
   "outputs": [
    {
     "name": "stdout",
     "output_type": "stream",
     "text": [
      "00 : /home/gabriel/Github/SPDE-JKW-Algorithm/data/test_jkw_R_000000.npz\n"
     ]
    }
   ],
   "source": [
    "for i,x in enumerate(all_files):\n",
    "    print(f\"{i:02d} : {x}\")"
   ]
  },
  {
   "cell_type": "code",
   "execution_count": 6,
   "id": "e24a87d7",
   "metadata": {},
   "outputs": [],
   "source": [
    "def f_fourier_kernel(k):\n",
    "    return sqrt(2.*pi)*L*exp(-2.*pi*pi*L*L*k*k)\n",
    "\n",
    "def spec_analyt(t,k):\n",
    "    beta = 8.*pi*pi*nu*k*k+alpha\n",
    "    return f_fourier_kernel(k) * (1.-exp(-beta*t)) / beta"
   ]
  },
  {
   "cell_type": "code",
   "execution_count": 7,
   "id": "3c6307d3",
   "metadata": {},
   "outputs": [],
   "source": [
    "# simulation prefix\n",
    "P = 0"
   ]
  },
  {
   "cell_type": "code",
   "execution_count": 32,
   "id": "fb27e1d2",
   "metadata": {},
   "outputs": [],
   "source": [
    "all_files = glob(f'{path}/data/*_R_{P:02d}*.npz')\n",
    "all_files.sort()"
   ]
  },
  {
   "cell_type": "code",
   "execution_count": 34,
   "id": "bb4d7387",
   "metadata": {},
   "outputs": [
    {
     "data": {
      "text/plain": [
       "38"
      ]
     },
     "execution_count": 34,
     "metadata": {},
     "output_type": "execute_result"
    }
   ],
   "source": [
    "len(all_files)"
   ]
  },
  {
   "cell_type": "code",
   "execution_count": 35,
   "id": "a2429fb2",
   "metadata": {},
   "outputs": [],
   "source": [
    "K = np.fft.fftfreq(N) * N"
   ]
  },
  {
   "cell_type": "markdown",
   "id": "7e7edb36",
   "metadata": {},
   "source": [
    "**Forcing spectrum**"
   ]
  },
  {
   "cell_type": "code",
   "execution_count": 10,
   "id": "ac6be723",
   "metadata": {},
   "outputs": [],
   "source": [
    "spec_f = np.zeros((N,),dtype=np.float64)"
   ]
  },
  {
   "cell_type": "code",
   "execution_count": 11,
   "id": "b50e46b9",
   "metadata": {},
   "outputs": [],
   "source": [
    "f = all_files[0]\n",
    "    \n",
    "npzfile = np.load(f)\n",
    "\n",
    "f_four = npzfile['f_four']\n",
    "\n",
    "spec_f = np.mean(np.abs(f_four)**2,axis=0) / N\n",
    "\n",
    "spec_f_theo = f_fourier_kernel(K)"
   ]
  },
  {
   "cell_type": "code",
   "execution_count": 12,
   "id": "97768777",
   "metadata": {},
   "outputs": [
    {
     "data": {
      "image/png": "[encoded data removed]",
      "text/plain": [
       "<Figure size 432x288 with 1 Axes>"
      ]
     },
     "metadata": {
      "needs_background": "light"
     },
     "output_type": "display_data"
    }
   ],
   "source": [
    "#plt.plot(spec)\n",
    "scale = 50\n",
    "plt.plot(K[:N//scale],spec_f[:N//scale])\n",
    "plt.plot(K[:N//scale],spec_f_theo[:N//scale])\n",
    "plt.show()"
   ]
  },
  {
   "cell_type": "markdown",
   "id": "1b4290cd",
   "metadata": {},
   "source": [
    "**Solution spectrum**"
   ]
  },
  {
   "cell_type": "code",
   "execution_count": 36,
   "id": "2e16cb50",
   "metadata": {},
   "outputs": [],
   "source": [
    "spec = np.zeros((10,N,),dtype=np.float64)"
   ]
  },
  {
   "cell_type": "code",
   "execution_count": 37,
   "id": "340328b4",
   "metadata": {},
   "outputs": [],
   "source": [
    "for f in all_files:\n",
    "    \n",
    "    npzfile = np.load(f)\n",
    "\n",
    "    #v_real = npzfile['v_real']\n",
    "    v_four = npzfile['v_four']\n",
    "\n",
    "    spec[0,:] += np.abs(v_four[           0,:])**2 / N\n",
    "    spec[1,:] += np.abs(v_four[1*N_eval//10,:])**2 / N\n",
    "    spec[2,:] += np.abs(v_four[2*N_eval//10,:])**2 / N\n",
    "    spec[3,:] += np.abs(v_four[3*N_eval//10,:])**2 / N\n",
    "    spec[4,:] += np.abs(v_four[4*N_eval//10,:])**2 / N\n",
    "    spec[5,:] += np.abs(v_four[5*N_eval//10,:])**2 / N\n",
    "    spec[6,:] += np.abs(v_four[6*N_eval//10,:])**2 / N\n",
    "    spec[7,:] += np.abs(v_four[7*N_eval//10,:])**2 / N\n",
    "    spec[8,:] += np.abs(v_four[8*N_eval//10,:])**2 / N\n",
    "    spec[9,:] += np.abs(v_four[9*N_eval//10,:])**2 / N\n",
    "    \n",
    "spec *= 1./len(all_files)"
   ]
  },
  {
   "cell_type": "code",
   "execution_count": 39,
   "id": "b44408e2",
   "metadata": {},
   "outputs": [],
   "source": [
    "K = np.fft.fftfreq(N) * N"
   ]
  },
  {
   "cell_type": "code",
   "execution_count": 43,
   "id": "f42838c2",
   "metadata": {},
   "outputs": [],
   "source": [
    "spec_analyt_list = np.empty((10,N),dtype=np.float64)\n",
    "spec_analyt(Ttotal,K)\n",
    "\n",
    "spec_analyt_list[0,:] = spec_analyt(0,K)\n",
    "spec_analyt_list[1,:] = spec_analyt(1*N_eval//10*dt*N_skip,K)\n",
    "spec_analyt_list[2,:] = spec_analyt(2*N_eval//10*dt*N_skip,K)\n",
    "spec_analyt_list[3,:] = spec_analyt(3*N_eval//10*dt*N_skip,K)\n",
    "spec_analyt_list[4,:] = spec_analyt(4*N_eval//10*dt*N_skip,K)\n",
    "spec_analyt_list[5,:] = spec_analyt(5*N_eval//10*dt*N_skip,K)\n",
    "spec_analyt_list[6,:] = spec_analyt(6*N_eval//10*dt*N_skip,K)\n",
    "spec_analyt_list[7,:] = spec_analyt(7*N_eval//10*dt*N_skip,K)\n",
    "spec_analyt_list[8,:] = spec_analyt(8*N_eval//10*dt*N_skip,K)\n",
    "spec_analyt_list[9,:] = spec_analyt(9*N_eval//10*dt*N_skip,K)"
   ]
  },
  {
   "cell_type": "code",
   "execution_count": 44,
   "id": "93727137",
   "metadata": {},
   "outputs": [
    {
     "data": {
      "image/png": "[encoded data removed]",
      "text/plain": [
       "<Figure size 432x288 with 1 Axes>"
      ]
     },
     "metadata": {
      "needs_background": "light"
     },
     "output_type": "display_data"
    }
   ],
   "source": [
    "#plt.plot(spec)\n",
    "scale = 100\n",
    "for i in range(10):\n",
    "    #plt.plot(K[:N//scale],spec[i,:N//scale])\n",
    "    plt.plot(K[:N//scale],spec_analyt_list[i,:N//scale],linestyle='dashed')\n",
    "plt.show()"
   ]
  },
  {
   "cell_type": "code",
   "execution_count": null,
   "id": "b7b8e7de",
   "metadata": {},
   "outputs": [],
   "source": []
  }
 ],
 "metadata": {
  "kernelspec": {
   "display_name": "Python 3 (ipykernel)",
   "language": "python",
   "name": "python3"
  },
  "language_info": {
   "codemirror_mode": {
    "name": "ipython",
    "version": 3
   },
   "file_extension": ".py",
   "mimetype": "text/x-python",
   "name": "python",
   "nbconvert_exporter": "python",
   "pygments_lexer": "ipython3",
   "version": "3.8.12"
  }
 },
 "nbformat": 4,
 "nbformat_minor": 5
}
